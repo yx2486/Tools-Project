{
 "cells": [
  {
   "cell_type": "code",
   "execution_count": 13,
   "metadata": {},
   "outputs": [],
   "source": [
    "def single(cluster1,cluster2):\n",
    "    min_c1 = min(cluster1)\n",
    "    max_c1 = max(cluster1)\n",
    "    min_c2 = min(cluster2)\n",
    "    max_c2 = max(cluster2)\n",
    "    distance1 = abs(min_c2-max_c1)\n",
    "    distance2 = abs(min_c1-max_c2)\n",
    "    distance = min(distance1,distance2)\n",
    "    return distance\n",
    "\n",
    "def complete(cluster1,cluster2):\n",
    "    min_c1 = min(cluster1)\n",
    "    max_c1 = max(cluster1)\n",
    "    min_c2 = min(cluster2)\n",
    "    max_c2 = max(cluster2)\n",
    "    distance1 = abs(max_c2-min_c1)\n",
    "    distance2 = abs(max_c1-min_c2)\n",
    "    distance = max(distance1,distance2)\n",
    "    return distance\n",
    "\n",
    "def avergae(cluster1,cluster2):\n",
    "    total_distance = 0\n",
    "    number_distance = len(cluster1)*len(cluster2)\n",
    "    for i in cluster1:\n",
    "        for j in cluster2:\n",
    "            dist = abs(j-i)\n",
    "            total_distance += dist\n",
    "    distance = total_distance/number_distance\n",
    "    return distance\n",
    "    "
   ]
  },
  {
   "cell_type": "code",
   "execution_count": null,
   "metadata": {},
   "outputs": [],
   "source": []
  }
 ],
 "metadata": {
  "kernelspec": {
   "display_name": "Python 3",
   "language": "python",
   "name": "python3"
  },
  "language_info": {
   "codemirror_mode": {
    "name": "ipython",
    "version": 3
   },
   "file_extension": ".py",
   "mimetype": "text/x-python",
   "name": "python",
   "nbconvert_exporter": "python",
   "pygments_lexer": "ipython3",
   "version": "3.7.0"
  }
 },
 "nbformat": 4,
 "nbformat_minor": 2
}
