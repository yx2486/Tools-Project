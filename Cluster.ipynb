{
 "cells": [
  {
   "cell_type": "code",
   "execution_count": 7,
   "metadata": {},
   "outputs": [],
   "source": [
    "#fully flattern a list\n",
    "def flatten(list_):\n",
    "    flattened_items = []\n",
    "    for item in list_:\n",
    "        if hasattr(item, 'items'):\n",
    "            flattened_items = flattened_items + flatten(item.items)\n",
    "        else:\n",
    "            flattened_items.append(item)\n",
    "    return flattened_items  "
   ]
  },
  {
   "cell_type": "code",
   "execution_count": null,
   "metadata": {},
   "outputs": [],
   "source": [
    "class Cluster():\n",
    "    def __init__(self,clust_distance,*args):\n",
    "        self.clust_distance = clust_distance\n",
    "        if len(args)==0:\n",
    "            self.items = []\n",
    "        else:\n",
    "            self.items = args\n",
    "    def distance(self, max_distance):\n",
    "        clust1 = self.items[0]\n",
    "        clust2 = self.items[1]\n",
    "        if self.clust_distance <= max_distance:\n",
    "            return [flatten(self.items)]\n",
    "        \n",
    "        # check the cluster's level and flattern them if necessary\n",
    "        if isinstance(clust1, Cluster) and clust1.clust_distance <= max_distance:\n",
    "            if isinstance(clust2, Cluster):\n",
    "                return [fullyflatten(clust1.items)] + clust2.getlevel(max_distance)\n",
    "            else:\n",
    "                return [fullyflatten(clust1.items)] + [[clust2]]\n",
    "        elif isinstance(clust2, Cluster) and clust2.clust_distance <= max_distance:\n",
    "            if isinstance(clust1, Cluster):\n",
    "                return clust1.getlevel(max_distance) + [fullyflatten(clust2.items)]\n",
    "            else:\n",
    "                return [[clust1]] + [fullyflatten(clust2.items)]\n",
    "\n",
    "        if isinstance(clust1, Cluster) and isinstance(clust2, Cluster):\n",
    "            return clust1.getlevel(max_distance) + clust2.getlevel(max_distance)\n",
    "        elif isinstance(clust1, Cluster):\n",
    "            return clust1.getlevel(max_distance) + [[clust2]]\n",
    "        elif isinstance(clust2, Cluster):\n",
    "            return [[clust1]] + clust2.getlevel(max_distance)\n",
    "        else:\n",
    "            return [[clust1], [clust2]]\n",
    "\n",
    "            \n",
    "        "
   ]
  },
  {
   "cell_type": "code",
   "execution_count": null,
   "metadata": {},
   "outputs": [],
   "source": []
  }
 ],
 "metadata": {
  "kernelspec": {
   "display_name": "Python 3",
   "language": "python",
   "name": "python3"
  },
  "language_info": {
   "codemirror_mode": {
    "name": "ipython",
    "version": 3
   },
   "file_extension": ".py",
   "mimetype": "text/x-python",
   "name": "python",
   "nbconvert_exporter": "python",
   "pygments_lexer": "ipython3",
   "version": "3.6.5"
  }
 },
 "nbformat": 4,
 "nbformat_minor": 2
}
