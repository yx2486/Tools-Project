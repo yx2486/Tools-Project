{
 "cells": [
  {
   "cell_type": "code",
   "execution_count": 7,
   "metadata": {},
   "outputs": [],
   "source": [
    "#fully flattern a list\n",
    "def flatten(list_):\n",
    "    new_list = []\n",
    "    for item in list_:\n",
    "        if isinstance(item,list):     # isinstance(a,b) if a is type b\n",
    "            flattened_inner_list = flatten(item)\n",
    "            new_list.extend(flattened_inner_list)\n",
    "        else:\n",
    "            new_list.append(item)\n",
    "    return new_list\n",
    "def fullyflatten(List):\n",
    "    flattened_items = []\n",
    "    for item in List:\n",
    "        if hasattr(item, 'items'):\n",
    "            flattened_items = flattened_items + fullyflatten(item.items)\n",
    "        else:\n",
    "            flattened_items.append(item)\n",
    "    return flattened_items  "
   ]
  },
  {
   "cell_type": "code",
   "execution_count": null,
   "metadata": {},
   "outputs": [],
   "source": []
  },
  {
   "cell_type": "code",
   "execution_count": null,
   "metadata": {},
   "outputs": [],
   "source": []
  },
  {
   "cell_type": "code",
   "execution_count": null,
   "metadata": {},
   "outputs": [],
   "source": []
  }
 ],
 "metadata": {
  "kernelspec": {
   "display_name": "Python 3",
   "language": "python",
   "name": "python3"
  },
  "language_info": {
   "codemirror_mode": {
    "name": "ipython",
    "version": 3
   },
   "file_extension": ".py",
   "mimetype": "text/x-python",
   "name": "python",
   "nbconvert_exporter": "python",
   "pygments_lexer": "ipython3",
   "version": "3.6.5"
  }
 },
 "nbformat": 4,
 "nbformat_minor": 2
}
