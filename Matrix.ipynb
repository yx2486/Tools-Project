{
 "cells": [
  {
   "cell_type": "code",
   "execution_count": 18,
   "metadata": {},
   "outputs": [],
   "source": [
    "class Matrix(object): # object representation of the matrix\n",
    "    def __init__(self, data, function):\n",
    "        self.data = data           # list of data\n",
    "        self.function = function   # function used to calculate values\n",
    "    \n",
    "    def getmatrix(self): # generate the matrix\n",
    "        self.matrix = []\n",
    "        for rowindex, item1 in enumerate(self.data):\n",
    "            row = {}\n",
    "            if type(item1) != list:\n",
    "                item1 = [item1]\n",
    "            for colindex, item2 in enumerate(self.data):\n",
    "                if type(item2) != list:\n",
    "                    item2 = [item2]\n",
    "                if colindex < rowindex:\n",
    "                    pass\n",
    "                else:\n",
    "                    row[colindex] = self.function(item1,item2)\n",
    "            for colindex, item2 in enumerate(self.data):\n",
    "                if colindex >= rowindex:\n",
    "                    break\n",
    "                row[colindex] = self.matrix[colindex][rowindex]\n",
    "            row_indexed = [row[index] for index in range(len(self.data))]\n",
    "            self.matrix.append(row_indexed)"
   ]
  }
 ],
 "metadata": {
  "kernelspec": {
   "display_name": "Python 3",
   "language": "python",
   "name": "python3"
  },
  "language_info": {
   "codemirror_mode": {
    "name": "ipython",
    "version": 3
   },
   "file_extension": ".py",
   "mimetype": "text/x-python",
   "name": "python",
   "nbconvert_exporter": "python",
   "pygments_lexer": "ipython3",
   "version": "3.7.0"
  }
 },
 "nbformat": 4,
 "nbformat_minor": 2
}
