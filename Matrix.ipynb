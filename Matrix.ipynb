{
 "cells": [
  {
   "cell_type": "code",
   "execution_count": 8,
   "metadata": {},
   "outputs": [],
   "source": [
    "class Matrix(object): # object representation of the matrix\n",
    "    def __init__(self, data, function, symmetric = False, diagonal = None ):\n",
    "        self.data = data           # list of data\n",
    "        self.function = function   # function used to calculate values\n",
    "        self.symmetric = symmetric # whether it is a symmetrical matrix\n",
    "        self.diagonal = diagonal   # how diagonal be calculated, if use \"x-y\", diagonal will be 0\n",
    "    \n",
    "    def getmatrix(self): # generate the matrix\n",
    "        self.matrix = []\n",
    "        for rowindex, item1 in enumerate(self.data):\n",
    "            row = {}\n",
    "            for colindex, item2 in enumerate(self.data):\n",
    "                if self.diagonal is not None and colindex ==rowindex:\n",
    "                    row[colindex] = self.diagnal\n",
    "                elif self.symmetric and colindex < rowindex:\n",
    "                    pass\n",
    "                else:\n",
    "                    row[colindex] = self.function(item1,item2)\n",
    "                if self.symmetric:\n",
    "                    for colindex, item2 in enumerate(self.data):\n",
    "                        if colindex >= rowindex:\n",
    "                            break\n",
    "                row_indexed = [row[index] for index in range(len(self.data))]\n",
    "                self.matrix.append(row_indexed)\n",
    "    def __str__(self):\n",
    "        max_length = 0\n",
    "        col_count = len(self.data[0])\n",
    "        for column in self.data:\n",
    "            for cell in column:\n",
    "                max_length = max(len(str(cell)), max_length)\n",
    "        format = \" %%%is |\" % max_length\n",
    "        format = \"|\" + format * col_count\n",
    "        rows = [format % tuple(row) for row in self.data]\n",
    "        return \"\\n\".join(rows)\n",
    "    \n",
    "    "
   ]
  },
  {
   "cell_type": "code",
   "execution_count": null,
   "metadata": {},
   "outputs": [],
   "source": []
  }
 ],
 "metadata": {
  "kernelspec": {
   "display_name": "Python 3",
   "language": "python",
   "name": "python3"
  },
  "language_info": {
   "codemirror_mode": {
    "name": "ipython",
    "version": 3
   },
   "file_extension": ".py",
   "mimetype": "text/x-python",
   "name": "python",
   "nbconvert_exporter": "python",
   "pygments_lexer": "ipython3",
   "version": "3.6.5"
  }
 },
 "nbformat": 4,
 "nbformat_minor": 2
}
