{
 "cells": [
  {
   "cell_type": "code",
   "execution_count": null,
   "metadata": {},
   "outputs": [],
   "source": [
    "#k means"
   ]
  },
  {
   "cell_type": "code",
   "execution_count": null,
   "metadata": {},
   "outputs": [],
   "source": [
    "#We use k-means to categorize a data set of items into groups"
   ]
  },
  {
   "cell_type": "code",
   "execution_count": null,
   "metadata": {},
   "outputs": [],
   "source": [
    "#The algorithm works as follows:\n",
    "#1. we initialize k points, called means, randomly.\n",
    "#2. We categorize each item to its closest mean and we update the mean’s coordinates, which are the averages of the items categorized in that mean so far.\n",
    "#3. We repeat the process for a given number of iterations and at the end, we have our clusters."
   ]
  },
  {
   "cell_type": "code",
   "execution_count": null,
   "metadata": {},
   "outputs": [],
   "source": [
    "import numpy as np\n",
    "import matplotlib.pyplot as plt\n",
    "import matplotlib.animation as animation"
   ]
  },
  {
   "cell_type": "code",
   "execution_count": 6,
   "metadata": {},
   "outputs": [],
   "source": [
    "def LoadData(fileName): \n",
    "  \n",
    " # Read the txt file\n",
    "    f = open(fileName, 'r')\n",
    "    lines = f.read().splitlines()  #splitting the file by lines\n",
    "    f.readline()\n",
    "    f.close()\n",
    "  \n",
    "    data = []\n",
    "  \n",
    "    for i in range(1, len(lines)): \n",
    "        line = lines[i].split(',') \n",
    "        itemFeatures = []\n",
    "  \n",
    "    for j in range(len(line)-1): \n",
    "            v = float(line[j]) # Convert feature value to float \n",
    "            itemFeatures.append(v) # Add feature value to the list \n",
    "  \n",
    "    data.append(itemFeatures)\n",
    "  \n",
    "    shuffle(data) # randomizes the items of a list in place.\n",
    "\n",
    "    return data; "
   ]
  },
  {
   "cell_type": "code",
   "execution_count": null,
   "metadata": {},
   "outputs": [],
   "source": [
    "def plot(dataset, history_centroids, belongs_to):\n",
    "    colors = ['r', 'g']\n",
    "\n",
    "    fig, ax = plt.subplots()\n",
    "\n",
    "    for index in range(dataset.shape[0]):\n",
    "        instances_close = [i for i in range(len(belongs_to)) if belongs_to[i] == index]\n",
    "        for instance_index in instances_close:\n",
    "            ax.plot(dataset[instance_index][0], dataset[instance_index][1], (colors[index] + 'o'))\n",
    "\n",
    "    history_points = []\n",
    "    for index, centroids in enumerate(history_centroids):\n",
    "        for inner, item in enumerate(centroids):\n",
    "            if index == 0:\n",
    "                history_points.append(ax.plot(item[0], item[1], 'bo')[0])\n",
    "            else:\n",
    "                history_points[inner].set_data(item[0], item[1])\n",
    "                print(\"centroids {} {}\".format(index, item))\n",
    "\n",
    "                plt.pause(0.8)"
   ]
  },
  {
   "cell_type": "code",
   "execution_count": null,
   "metadata": {},
   "outputs": [],
   "source": [
    "#use the object oriented programming(OOP) with the class KMeansClustering"
   ]
  },
  {
   "cell_type": "code",
   "execution_count": null,
   "metadata": {},
   "outputs": [],
   "source": [
    "from cluster.util import ClusteringError, centroid, minkowski_distance\n",
    "#Minkowski distance. The Minkowski distance is a metric in a normed vector space which can be considered \n",
    "#as a generalization of both the Euclidean distance and the Manhattan distance."
   ]
  },
  {
   "cell_type": "code",
   "execution_count": 1,
   "metadata": {},
   "outputs": [],
   "source": [
    "class K_Means_Clustering(object):\n",
    "    def __init__(self, data, distance=None, equality=None):\n",
    "        self.__clusters = [] #instantiating new objects used for kmeans\n",
    "        self.__data = data  #A list of tuples or integers.\n",
    "        self.distance = distance\n",
    "        self.__init_length = len(data)\n",
    "        self.equality = equality\n",
    "    \n",
    "    # make sure each item is of same dimensions\n",
    "    # whether data[0] is an instance or subclass of tuple\n",
    "    \n",
    "        if len(data) > 1 and isinstance(data[0], tuple):\n",
    "            control_length = len(data[0])\n",
    "            for item in data[1:]:\n",
    "                if len(item) != control_length:\n",
    "                    raise ValueError(\"Each item in the data list must have the same amount of dimensions.\")\n",
    "\n",
    "    # set up a distance function\n",
    "        self.distance = minkowski_distance\n",
    "        \n",
    "    "
   ]
  },
  {
   "cell_type": "code",
   "execution_count": null,
   "metadata": {},
   "outputs": [],
   "source": [
    "#set clusters\n",
    "def get_clusters(self, count):\n",
    "    \n",
    "    #make sure the count is meaningful\n",
    "    \n",
    "    if count <= 1:\n",
    "        raise ClusteringError(\"When clustering, you need at least two clusters!\"\n",
    "                                  \"You asked for %d\" % count)\n",
    "    \n",
    "    #Condition that there is nothing to cluster, then return the data directly\n",
    "    #ex. conditions of empty list, or count number = ini_length\n",
    "    if (self.__data == [] or len(self.__data) == 1 or\n",
    "            count == self.__init_length):\n",
    "        return self.__data\n",
    "    \n",
    "    #Condition that the number of clusters is too much to generate\n",
    "    \n",
    "    if count > self.__initial_length:\n",
    "        raise ClusteringError(\"Clusters generated need to be smaller than \"\n",
    "                \"items available. You supplied %d items, and asked for \"\n",
    "                \"%d clusters.\" % (self.__initial_length, count))\n",
    "\n",
    "    #Set up the count number\n",
    "    self.initialise_clusters(self.__data, count)\n",
    "    "
   ]
  },
  {
   "cell_type": "code",
   "execution_count": null,
   "metadata": {},
   "outputs": [],
   "source": [
    "class K_Means_Clustering(object):\n",
    "    def allocate_item(self, item, origin): #item is the item to be removed and origin is the original clusters\n",
    "        closest_cluster = origin \n",
    "        for cluster in self.__clusters:\n",
    "            if self.distance(item, centroid(cluster)) < self.distance(item, centroid(closest_cluster)): \n",
    "                closest_cluster = cluster\n",
    "                #if the distance of the item to another cluster is smaller \n",
    "                #than to the original cluster,then reset the closest cluster \n",
    "\n",
    "        if id(closest_cluster) != id(origin): #move item to the closest cluster\n",
    "            self.move_item(item, origin, closest_cluster)\n",
    "            return True\n",
    "        else:\n",
    "            return False\n",
    "        \n",
    "\n",
    "        "
   ]
  },
  {
   "cell_type": "code",
   "execution_count": 3,
   "metadata": {},
   "outputs": [],
   "source": [
    "class K_Means_Clustering(object):\n",
    "    # A move functional attribute to move the item to the cluster allocated\n",
    "    def move_item(self, item, origin, destination):\n",
    "        for i, element in enumerate(origin):\n",
    "            if self.equality(element, item):\n",
    "                    item_index = i\n",
    "                    break\n",
    "            else:\n",
    "                    item_index = origin.index(item)\n",
    "    "
   ]
  },
  {
   "cell_type": "code",
   "execution_count": 7,
   "metadata": {},
   "outputs": [],
   "source": [
    "class K_Means_Clustering(object):\n",
    "    def FindClusters(self, data, clustercount):\n",
    "    # data here is a set of tuples\n",
    "        self.__clusters = []   # initialise the clusters with empty lists\n",
    "        for _ in range(clustercount):\n",
    "            self.__clusters.append([])  #append empty clusters\n",
    "\n",
    "    # distribute the items into the clusters\n",
    "        count = 0\n",
    "        for item in data:\n",
    "            self.__clusters[count % clustercount].append(item)\n",
    "            count += 1    #calculate amount of clusters to generate\n",
    "\n",
    "        "
   ]
  },
  {
   "cell_type": "code",
   "execution_count": null,
   "metadata": {},
   "outputs": [],
   "source": []
  }
 ],
 "metadata": {
  "kernelspec": {
   "display_name": "Python 3",
   "language": "python",
   "name": "python3"
  },
  "language_info": {
   "codemirror_mode": {
    "name": "ipython",
    "version": 3
   },
   "file_extension": ".py",
   "mimetype": "text/x-python",
   "name": "python",
   "nbconvert_exporter": "python",
   "pygments_lexer": "ipython3",
   "version": "3.7.0"
  }
 },
 "nbformat": 4,
 "nbformat_minor": 2
}
