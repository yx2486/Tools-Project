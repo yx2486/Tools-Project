{
 "cells": [
  {
   "cell_type": "code",
   "execution_count": null,
   "metadata": {},
   "outputs": [],
   "source": [
    "#k means"
   ]
  },
  {
   "cell_type": "code",
   "execution_count": null,
   "metadata": {},
   "outputs": [],
   "source": [
    "#We use k-means to categorize a data set of items into groups"
   ]
  },
  {
   "cell_type": "code",
   "execution_count": null,
   "metadata": {},
   "outputs": [],
   "source": [
    "#The algorithm works as follows:\n",
    "#1. we initialize k points, called means, randomly.\n",
    "#2. We categorize each item to its closest mean and we update the mean’s coordinates, which are the averages of the items categorized in that mean so far.\n",
    "#3. We repeat the process for a given number of iterations and at the end, we have our clusters."
   ]
  },
  {
   "cell_type": "code",
   "execution_count": null,
   "metadata": {},
   "outputs": [],
   "source": [
    "import numpy as np\n",
    "import matplotlib.pyplot as plt\n",
    "import matplotlib.animation as animation"
   ]
  },
  {
   "cell_type": "code",
   "execution_count": null,
   "metadata": {},
   "outputs": [],
   "source": [
    "def LoadData(fileName): \n",
    "  \n",
    " # Read the txt file\n",
    "    f = open(fileName, 'r')\n",
    "    lines = f.read().splitlines()  #splitting the file by lines\n",
    "    f.readline()\n",
    "    f.close()\n",
    "  \n",
    "    items = []\n",
    "  \n",
    "    for i in range(1, len(lines)): \n",
    "        line = lines[i].split(',') \n",
    "        itemFeatures = []\n",
    "  \n",
    "    for j in range(len(line)-1): \n",
    "            v = float(line[j]) # Convert feature value to float \n",
    "            itemFeatures.append(v) # Add feature value to the list \n",
    "  \n",
    "        items.append(itemFeatures) \n",
    "  \n",
    "    shuffle(items) # randomizes the items of a list in place.\n",
    "\n",
    "    return items; "
   ]
  },
  {
   "cell_type": "code",
   "execution_count": null,
   "metadata": {},
   "outputs": [],
   "source": [
    "#use the euclidean distance to calculate the similarity\n",
    "import linalg as LA\n",
    "def euclidian(a, b):\n",
    "    return LA.norm(a-b)"
   ]
  },
  {
   "cell_type": "code",
   "execution_count": null,
   "metadata": {},
   "outputs": [],
   "source": [
    "#Initialize means:We want to initialize each mean’s values in the range of the feature values of the items. "
   ]
  },
  {
   "cell_type": "code",
   "execution_count": 7,
   "metadata": {},
   "outputs": [],
   "source": [
    "def Mean(n,mean,item): \n",
    "    for i in range(len(mean)): \n",
    "        m = mean[i]\n",
    "        m = (m*(n-1)+item[i])/float(n)  #calculate the average using the function (m*(n-1)+x)/n\n",
    "   #where m is the mean value for a feature, n is the number of items in the cluster \n",
    "   #x is the feature value for the added item.\n",
    "        mean[i] = round(m, 3) \n",
    "      \n",
    "    return mean\n"
   ]
  },
  {
   "cell_type": "code",
   "execution_count": null,
   "metadata": {},
   "outputs": [],
   "source": []
  }
 ],
 "metadata": {
  "kernelspec": {
   "display_name": "Python 3",
   "language": "python",
   "name": "python3"
  },
  "language_info": {
   "codemirror_mode": {
    "name": "ipython",
    "version": 3
   },
   "file_extension": ".py",
   "mimetype": "text/x-python",
   "name": "python",
   "nbconvert_exporter": "python",
   "pygments_lexer": "ipython3",
   "version": "3.7.0"
  }
 },
 "nbformat": 4,
 "nbformat_minor": 2
}
