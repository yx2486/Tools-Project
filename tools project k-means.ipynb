{
 "cells": [
  {
   "cell_type": "code",
   "execution_count": null,
   "metadata": {},
   "outputs": [],
   "source": [
    "#k means"
   ]
  },
  {
   "cell_type": "code",
   "execution_count": null,
   "metadata": {},
   "outputs": [],
   "source": [
    "#We use k-means to categorize a data set of items into groups"
   ]
  },
  {
   "cell_type": "code",
   "execution_count": null,
   "metadata": {},
   "outputs": [],
   "source": [
    "#The algorithm works as follows:\n",
    "#1. we initialize k points, called means, randomly.\n",
    "#2. We categorize each item to its closest mean and we update the mean’s coordinates, which are the averages of the items categorized in that mean so far.\n",
    "#3. We repeat the process for a given number of iterations and at the end, we have our clusters."
   ]
  },
  {
   "cell_type": "code",
   "execution_count": null,
   "metadata": {},
   "outputs": [],
   "source": [
    "import numpy as np\n",
    "import matplotlib.pyplot as plt\n",
    "import matplotlib.animation as animation"
   ]
  },
  {
   "cell_type": "code",
   "execution_count": null,
   "metadata": {},
   "outputs": [],
   "source": [
    "def LoadData(fileName): \n",
    "  \n",
    " # Read the txt file\n",
    "    f = open(fileName, 'r')\n",
    "    lines = f.read().splitlines()  #splitting the file by lines\n",
    "    f.readline()\n",
    "    f.close()\n",
    "  \n",
    "    items = []\n",
    "  \n",
    "    for i in range(1, len(lines)): \n",
    "        line = lines[i].split(',') \n",
    "        itemFeatures = []\n",
    "  \n",
    "    for j in range(len(line)-1): \n",
    "            v = float(line[j]) # Convert feature value to float \n",
    "            itemFeatures.append(v) # Add feature value to the list \n",
    "  \n",
    "        items.append(itemFeatures) \n",
    "  \n",
    "    shuffle(items) # randomizes the items of a list in place.\n",
    "\n",
    "    return items; "
   ]
  },
  {
   "cell_type": "code",
   "execution_count": null,
   "metadata": {},
   "outputs": [],
   "source": [
    "#use the euclidean distance to calculate the similarity\n",
    "import linalg as LA\n",
    "def euclidian(a, b):\n",
    "    return LA.norm(a-b)"
   ]
  },
  {
   "cell_type": "code",
   "execution_count": null,
   "metadata": {},
   "outputs": [],
   "source": [
    "#Initialize means:We want to initialize each mean’s values in the range of the feature values of the items. "
   ]
  },
  {
   "cell_type": "code",
   "execution_count": 7,
   "metadata": {},
   "outputs": [],
   "source": [
    "def Mean(n,mean,item): \n",
    "    for i in range(len(mean)): \n",
    "        m = mean[i]\n",
    "        m = (m*(n-1)+item[i])/float(n)  #calculate the average using the function (m*(n-1)+x)/n\n",
    "   #where m is the mean value for a feature, n is the number of items in the cluster \n",
    "   #x is the feature value for the added item.\n",
    "        mean[i] = round(m, 3) \n",
    "      \n",
    "    return mean\n"
   ]
  },
  {
   "cell_type": "code",
   "execution_count": null,
   "metadata": {},
   "outputs": [],
   "source": [
    "def plot(dataset, history_centroids, belongs_to):\n",
    "    colors = ['r', 'g']\n",
    "\n",
    "    fig, ax = plt.subplots()\n",
    "\n",
    "    for index in range(dataset.shape[0]):\n",
    "        instances_close = [i for i in range(len(belongs_to)) if belongs_to[i] == index]\n",
    "        for instance_index in instances_close:\n",
    "            ax.plot(dataset[instance_index][0], dataset[instance_index][1], (colors[index] + 'o'))\n",
    "\n",
    "    history_points = []\n",
    "    for index, centroids in enumerate(history_centroids):\n",
    "        for inner, item in enumerate(centroids):\n",
    "            if index == 0:\n",
    "                history_points.append(ax.plot(item[0], item[1], 'bo')[0])\n",
    "            else:\n",
    "                history_points[inner].set_data(item[0], item[1])\n",
    "                print(\"centroids {} {}\".format(index, item))\n",
    "\n",
    "                plt.pause(0.8)"
   ]
  },
  {
   "cell_type": "code",
   "execution_count": null,
   "metadata": {},
   "outputs": [],
   "source": [
    "#use the object oriented programming(OOP) with the class KMeansClustering"
   ]
  },
  {
   "cell_type": "code",
   "execution_count": null,
   "metadata": {},
   "outputs": [],
   "source": [
    "from cluster.util import ClusteringError, centroid, minkowski_distance\n",
    "#Minkowski distance. The Minkowski distance is a metric in a normed vector space which can be considered \n",
    "#as a generalization of both the Euclidean distance and the Manhattan distance."
   ]
  },
  {
   "cell_type": "code",
   "execution_count": 1,
   "metadata": {},
   "outputs": [],
   "source": [
    "class K_Means_Clustering(object):\n",
    "    def __init__(self, data, distance=None, equality=None):\n",
    "        self.__clusters = [] #instantiating new objects used for kmeans\n",
    "        self.__data = data\n",
    "        self.distance = distance\n",
    "        self.__init_length = len(data)\n",
    "        self.equality = equality\n",
    "    \n",
    "    # make sure each item is of same dimensions\n",
    "    # whether data[0] is an instance or subclass of tuple\n",
    "    \n",
    "        if len(data) > 1 and isinstance(data[0], tuple):\n",
    "            control_length = len(data[0])\n",
    "            for item in data[1:]:\n",
    "                if len(item) != control_length:\n",
    "                    raise ValueError(\"Each item in the data list must have the same amount of dimensions.\")\n",
    "\n",
    "    # set up a distance function\n",
    "        self.distance = minkowski_distance\n",
    "        \n",
    "    "
   ]
  },
  {
   "cell_type": "code",
   "execution_count": null,
   "metadata": {},
   "outputs": [],
   "source": [
    "#set clusters\n",
    "def get_clusters(self, count):\n",
    "    \n",
    "    #make sure the count is meaningful\n",
    "    \n",
    "    if count <= 1:\n",
    "        raise ClusteringError(\"When clustering, you need at least two clusters!\"\n",
    "                                  \"You asked for %d\" % count)\n",
    "    \n",
    "    #Condition that there is nothing to cluster, then return the data directly\n",
    "    #ex. conditions of empty list, or count number = ini_length\n",
    "    if (self.__data == [] or len(self.__data) == 1 or\n",
    "            count == self.__init_length):\n",
    "        return self.__data\n",
    "    \n",
    "    #Condition that the number of clusters is too much\n",
    "    \n",
    "    if count > self.__initial_length:\n",
    "        raise ClusteringError(\"Clusters generated need to be smaller than \"\n",
    "                \"items available. You supplied %d items, and asked for \"\n",
    "                \"%d clusters.\" % (self.__initial_length, count))\n",
    "\n",
    "    #Set up the count number\n",
    "    self.initialise_clusters(self.__data, count)\n",
    "    "
   ]
  }
 ],
 "metadata": {
  "kernelspec": {
   "display_name": "Python 3",
   "language": "python",
   "name": "python3"
  },
  "language_info": {
   "codemirror_mode": {
    "name": "ipython",
    "version": 3
   },
   "file_extension": ".py",
   "mimetype": "text/x-python",
   "name": "python",
   "nbconvert_exporter": "python",
   "pygments_lexer": "ipython3",
   "version": "3.7.0"
  }
 },
 "nbformat": 4,
 "nbformat_minor": 2
}
