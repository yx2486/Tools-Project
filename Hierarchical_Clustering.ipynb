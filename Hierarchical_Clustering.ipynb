{
 "cells": [
  {
   "cell_type": "code",
   "execution_count": null,
   "metadata": {},
   "outputs": [],
   "source": [
    "# import all functions and classeses\n",
    "from linkage import single,complete,average\n",
    "from Cluster import flatten, Cluster\n",
    "from Matrix import Matrix\n",
    "\n",
    "class HierarchicalClustering():\n",
    "    def __init__(self,data,linkage):\n",
    "        self._data = data\n",
    "        self.linkage = linkage\n",
    "    \n",
    "    # this function performs clustering   \n",
    "    def cluster(self):\n",
    "        clust_distance = 0\n",
    "        matrix = []\n",
    "        while matrix == [] or len(matrix) > 2:\n",
    "            dist_matrix = Matrix(self._data,self.linkage)\n",
    "            dist_matrix.getmatrix\n",
    "            matrix = dist_matrix.matrix\n",
    "            \n",
    "            # find the closest distance\n",
    "            closest = None\n",
    "            min_dist = None\n",
    "            rowindex = 0\n",
    "            for row in matrix:\n",
    "                colindex = 0\n",
    "                for cell in row:\n",
    "                    if rowindex != colindex:\n",
    "                        if (min_dist is None) or cell < min_dist:\n",
    "                            closest = (rowindex, colindex)\n",
    "                            min_dist = cell\n",
    "                    colindex +=1\n",
    "                rowindex += 1\n",
    "            clust_distance = matrix[closest[0][[closest[1]]\n",
    "            cluster = Cluster(clust_distance, self._data[closest[0]],self._data[closest[1]])\n",
    "            \n",
    "            # remove items after clustering                                   \n",
    "            if closest[0] > closest[1]:\n",
    "                self._data.remove(self._data[closest[0]])\n",
    "                self._data.remove(self._data[closest[1]])\n",
    "            else:\n",
    "                self._data.remove(self._data[closest[1]])\n",
    "                self._data.remove(self._data[closest[0]])\n",
    "            self._data.append(cluster)\n",
    "    \n",
    "    # this function returns all clusters with max_distance                                       \n",
    "    def distance(self,max_distance):\n",
    "       self.cluster() \n",
    "       return self._data.distance(max_distance)                                     \n",
    "                        \n",
    "        "
   ]
  }
 ],
 "metadata": {
  "kernelspec": {
   "display_name": "Python 3",
   "language": "python",
   "name": "python3"
  },
  "language_info": {
   "codemirror_mode": {
    "name": "ipython",
    "version": 3
   },
   "file_extension": ".py",
   "mimetype": "text/x-python",
   "name": "python",
   "nbconvert_exporter": "python",
   "pygments_lexer": "ipython3",
   "version": "3.7.0"
  }
 },
 "nbformat": 4,
 "nbformat_minor": 2
}
